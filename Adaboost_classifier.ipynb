{
 "cells": [
  {
   "cell_type": "code",
   "execution_count": 1,
   "metadata": {
    "colab": {
     "base_uri": "https://localhost:8080/"
    },
    "id": "n4UZknFtHvGy",
    "outputId": "b933eb52-f602-43a4-fb32-b1b063381f00"
   },
   "outputs": [
    {
     "name": "stdout",
     "output_type": "stream",
     "text": [
      "Mounted at /content/drive\n"
     ]
    }
   ],
   "source": [
    "from google.colab import drive\n",
    "drive.mount(\"/content/drive\")"
   ]
  },
  {
   "cell_type": "code",
   "execution_count": 11,
   "metadata": {
    "id": "Mm3dqAtnIQuI"
   },
   "outputs": [],
   "source": [
    "path = \"/content/drive/MyDrive/Adaboost/Adult.csv\""
   ]
  },
  {
   "cell_type": "code",
   "execution_count": 3,
   "metadata": {
    "id": "Aq0EJ-9CIUnI"
   },
   "outputs": [],
   "source": [
    "import pandas as pd\n",
    "import numpy as np\n",
    "from sklearn.model_selection import train_test_split, cross_val_score\n",
    "from sklearn.ensemble import AdaBoostClassifier, RandomForestClassifier, GradientBoostingClassifier\n",
    "from sklearn.metrics import precision_score, recall_score, confusion_matrix, classification_report, accuracy_score, f1_score\n",
    "from sklearn.linear_model  import LogisticRegression\n",
    "from sklearn.tree import DecisionTreeClassifier\n"
   ]
  },
  {
   "cell_type": "markdown",
   "metadata": {
    "id": "r-IXLKf8guRq"
   },
   "source": [
    "<h3> Reading the data and dummifying the categorical variables </h3>"
   ]
  },
  {
   "cell_type": "code",
   "execution_count": 13,
   "metadata": {
    "id": "YjUfOXvKIVJA"
   },
   "outputs": [],
   "source": [
    "\n",
    "adult_df1 = pd.read_csv(path)\n",
    "adult_df = pd.get_dummies(adult_df1, columns = ['race','sex','workclass','marital-status'],drop_first = True)"
   ]
  },
  {
   "cell_type": "code",
   "execution_count": 5,
   "metadata": {
    "colab": {
     "base_uri": "https://localhost:8080/",
     "height": 305
    },
    "id": "ZNxTfuT6gm1d",
    "outputId": "c5f7a087-9026-4310-d3b3-c04f09a75e5d"
   },
   "outputs": [
    {
     "data": {
      "text/html": [
       "\n",
       "  <div id=\"df-a2bb691d-cf9e-49d7-812c-76f009a37623\">\n",
       "    <div class=\"colab-df-container\">\n",
       "      <div>\n",
       "<style scoped>\n",
       "    .dataframe tbody tr th:only-of-type {\n",
       "        vertical-align: middle;\n",
       "    }\n",
       "\n",
       "    .dataframe tbody tr th {\n",
       "        vertical-align: top;\n",
       "    }\n",
       "\n",
       "    .dataframe thead th {\n",
       "        text-align: right;\n",
       "    }\n",
       "</style>\n",
       "<table border=\"1\" class=\"dataframe\">\n",
       "  <thead>\n",
       "    <tr style=\"text-align: right;\">\n",
       "      <th></th>\n",
       "      <th>income</th>\n",
       "      <th>age</th>\n",
       "      <th>education-num</th>\n",
       "      <th>capital-gain</th>\n",
       "      <th>capital-loss</th>\n",
       "      <th>hours-per-week</th>\n",
       "      <th>race_Asian-Pac-Islander</th>\n",
       "      <th>race_Black</th>\n",
       "      <th>race_Other</th>\n",
       "      <th>race_White</th>\n",
       "      <th>sex_Male</th>\n",
       "      <th>workclass_Never-worked</th>\n",
       "      <th>workclass_Private</th>\n",
       "      <th>workclass_Self</th>\n",
       "      <th>marital-status_Married</th>\n",
       "      <th>marital-status_Never-married</th>\n",
       "      <th>marital-status_Separated</th>\n",
       "      <th>marital-status_Widowed</th>\n",
       "    </tr>\n",
       "  </thead>\n",
       "  <tbody>\n",
       "    <tr>\n",
       "      <th>0</th>\n",
       "      <td>&lt;=50K.</td>\n",
       "      <td>39</td>\n",
       "      <td>13</td>\n",
       "      <td>2174</td>\n",
       "      <td>0</td>\n",
       "      <td>40</td>\n",
       "      <td>0</td>\n",
       "      <td>0</td>\n",
       "      <td>0</td>\n",
       "      <td>1</td>\n",
       "      <td>1</td>\n",
       "      <td>0</td>\n",
       "      <td>0</td>\n",
       "      <td>0</td>\n",
       "      <td>0</td>\n",
       "      <td>1</td>\n",
       "      <td>0</td>\n",
       "      <td>0</td>\n",
       "    </tr>\n",
       "    <tr>\n",
       "      <th>1</th>\n",
       "      <td>&gt;50K.</td>\n",
       "      <td>30</td>\n",
       "      <td>13</td>\n",
       "      <td>0</td>\n",
       "      <td>0</td>\n",
       "      <td>40</td>\n",
       "      <td>1</td>\n",
       "      <td>0</td>\n",
       "      <td>0</td>\n",
       "      <td>0</td>\n",
       "      <td>1</td>\n",
       "      <td>0</td>\n",
       "      <td>0</td>\n",
       "      <td>0</td>\n",
       "      <td>1</td>\n",
       "      <td>0</td>\n",
       "      <td>0</td>\n",
       "      <td>0</td>\n",
       "    </tr>\n",
       "    <tr>\n",
       "      <th>2</th>\n",
       "      <td>&lt;=50K.</td>\n",
       "      <td>35</td>\n",
       "      <td>5</td>\n",
       "      <td>0</td>\n",
       "      <td>0</td>\n",
       "      <td>40</td>\n",
       "      <td>0</td>\n",
       "      <td>1</td>\n",
       "      <td>0</td>\n",
       "      <td>0</td>\n",
       "      <td>1</td>\n",
       "      <td>0</td>\n",
       "      <td>0</td>\n",
       "      <td>0</td>\n",
       "      <td>1</td>\n",
       "      <td>0</td>\n",
       "      <td>0</td>\n",
       "      <td>0</td>\n",
       "    </tr>\n",
       "    <tr>\n",
       "      <th>3</th>\n",
       "      <td>&gt;50K.</td>\n",
       "      <td>56</td>\n",
       "      <td>13</td>\n",
       "      <td>0</td>\n",
       "      <td>0</td>\n",
       "      <td>40</td>\n",
       "      <td>0</td>\n",
       "      <td>0</td>\n",
       "      <td>0</td>\n",
       "      <td>1</td>\n",
       "      <td>1</td>\n",
       "      <td>0</td>\n",
       "      <td>0</td>\n",
       "      <td>0</td>\n",
       "      <td>1</td>\n",
       "      <td>0</td>\n",
       "      <td>0</td>\n",
       "      <td>0</td>\n",
       "    </tr>\n",
       "    <tr>\n",
       "      <th>4</th>\n",
       "      <td>&lt;=50K.</td>\n",
       "      <td>23</td>\n",
       "      <td>12</td>\n",
       "      <td>0</td>\n",
       "      <td>0</td>\n",
       "      <td>52</td>\n",
       "      <td>0</td>\n",
       "      <td>0</td>\n",
       "      <td>0</td>\n",
       "      <td>1</td>\n",
       "      <td>1</td>\n",
       "      <td>0</td>\n",
       "      <td>0</td>\n",
       "      <td>0</td>\n",
       "      <td>0</td>\n",
       "      <td>1</td>\n",
       "      <td>0</td>\n",
       "      <td>0</td>\n",
       "    </tr>\n",
       "  </tbody>\n",
       "</table>\n",
       "</div>\n",
       "      <button class=\"colab-df-convert\" onclick=\"convertToInteractive('df-a2bb691d-cf9e-49d7-812c-76f009a37623')\"\n",
       "              title=\"Convert this dataframe to an interactive table.\"\n",
       "              style=\"display:none;\">\n",
       "        \n",
       "  <svg xmlns=\"http://www.w3.org/2000/svg\" height=\"24px\"viewBox=\"0 0 24 24\"\n",
       "       width=\"24px\">\n",
       "    <path d=\"M0 0h24v24H0V0z\" fill=\"none\"/>\n",
       "    <path d=\"M18.56 5.44l.94 2.06.94-2.06 2.06-.94-2.06-.94-.94-2.06-.94 2.06-2.06.94zm-11 1L8.5 8.5l.94-2.06 2.06-.94-2.06-.94L8.5 2.5l-.94 2.06-2.06.94zm10 10l.94 2.06.94-2.06 2.06-.94-2.06-.94-.94-2.06-.94 2.06-2.06.94z\"/><path d=\"M17.41 7.96l-1.37-1.37c-.4-.4-.92-.59-1.43-.59-.52 0-1.04.2-1.43.59L10.3 9.45l-7.72 7.72c-.78.78-.78 2.05 0 2.83L4 21.41c.39.39.9.59 1.41.59.51 0 1.02-.2 1.41-.59l7.78-7.78 2.81-2.81c.8-.78.8-2.07 0-2.86zM5.41 20L4 18.59l7.72-7.72 1.47 1.35L5.41 20z\"/>\n",
       "  </svg>\n",
       "      </button>\n",
       "      \n",
       "  <style>\n",
       "    .colab-df-container {\n",
       "      display:flex;\n",
       "      flex-wrap:wrap;\n",
       "      gap: 12px;\n",
       "    }\n",
       "\n",
       "    .colab-df-convert {\n",
       "      background-color: #E8F0FE;\n",
       "      border: none;\n",
       "      border-radius: 50%;\n",
       "      cursor: pointer;\n",
       "      display: none;\n",
       "      fill: #1967D2;\n",
       "      height: 32px;\n",
       "      padding: 0 0 0 0;\n",
       "      width: 32px;\n",
       "    }\n",
       "\n",
       "    .colab-df-convert:hover {\n",
       "      background-color: #E2EBFA;\n",
       "      box-shadow: 0px 1px 2px rgba(60, 64, 67, 0.3), 0px 1px 3px 1px rgba(60, 64, 67, 0.15);\n",
       "      fill: #174EA6;\n",
       "    }\n",
       "\n",
       "    [theme=dark] .colab-df-convert {\n",
       "      background-color: #3B4455;\n",
       "      fill: #D2E3FC;\n",
       "    }\n",
       "\n",
       "    [theme=dark] .colab-df-convert:hover {\n",
       "      background-color: #434B5C;\n",
       "      box-shadow: 0px 1px 3px 1px rgba(0, 0, 0, 0.15);\n",
       "      filter: drop-shadow(0px 1px 2px rgba(0, 0, 0, 0.3));\n",
       "      fill: #FFFFFF;\n",
       "    }\n",
       "  </style>\n",
       "\n",
       "      <script>\n",
       "        const buttonEl =\n",
       "          document.querySelector('#df-a2bb691d-cf9e-49d7-812c-76f009a37623 button.colab-df-convert');\n",
       "        buttonEl.style.display =\n",
       "          google.colab.kernel.accessAllowed ? 'block' : 'none';\n",
       "\n",
       "        async function convertToInteractive(key) {\n",
       "          const element = document.querySelector('#df-a2bb691d-cf9e-49d7-812c-76f009a37623');\n",
       "          const dataTable =\n",
       "            await google.colab.kernel.invokeFunction('convertToInteractive',\n",
       "                                                     [key], {});\n",
       "          if (!dataTable) return;\n",
       "\n",
       "          const docLinkHtml = 'Like what you see? Visit the ' +\n",
       "            '<a target=\"_blank\" href=https://colab.research.google.com/notebooks/data_table.ipynb>data table notebook</a>'\n",
       "            + ' to learn more about interactive tables.';\n",
       "          element.innerHTML = '';\n",
       "          dataTable['output_type'] = 'display_data';\n",
       "          await google.colab.output.renderOutput(dataTable, element);\n",
       "          const docLink = document.createElement('div');\n",
       "          docLink.innerHTML = docLinkHtml;\n",
       "          element.appendChild(docLink);\n",
       "        }\n",
       "      </script>\n",
       "    </div>\n",
       "  </div>\n",
       "  "
      ],
      "text/plain": [
       "   income  age  education-num  capital-gain  capital-loss  hours-per-week  \\\n",
       "0  <=50K.   39             13          2174             0              40   \n",
       "1   >50K.   30             13             0             0              40   \n",
       "2  <=50K.   35              5             0             0              40   \n",
       "3   >50K.   56             13             0             0              40   \n",
       "4  <=50K.   23             12             0             0              52   \n",
       "\n",
       "   race_Asian-Pac-Islander  race_Black  race_Other  race_White  sex_Male  \\\n",
       "0                        0           0           0           1         1   \n",
       "1                        1           0           0           0         1   \n",
       "2                        0           1           0           0         1   \n",
       "3                        0           0           0           1         1   \n",
       "4                        0           0           0           1         1   \n",
       "\n",
       "   workclass_Never-worked  workclass_Private  workclass_Self  \\\n",
       "0                       0                  0               0   \n",
       "1                       0                  0               0   \n",
       "2                       0                  0               0   \n",
       "3                       0                  0               0   \n",
       "4                       0                  0               0   \n",
       "\n",
       "   marital-status_Married  marital-status_Never-married  \\\n",
       "0                       0                             1   \n",
       "1                       1                             0   \n",
       "2                       1                             0   \n",
       "3                       1                             0   \n",
       "4                       0                             1   \n",
       "\n",
       "   marital-status_Separated  marital-status_Widowed  \n",
       "0                         0                       0  \n",
       "1                         0                       0  \n",
       "2                         0                       0  \n",
       "3                         0                       0  \n",
       "4                         0                       0  "
      ]
     },
     "execution_count": 5,
     "metadata": {},
     "output_type": "execute_result"
    }
   ],
   "source": [
    "adult_df.head()"
   ]
  },
  {
   "cell_type": "markdown",
   "metadata": {
    "id": "wF-mWnA2hBpj"
   },
   "source": [
    "<h3> Constructing the predictor and the target variables </h3>"
   ]
  },
  {
   "cell_type": "code",
   "execution_count": 6,
   "metadata": {
    "id": "xwHQKngRInxI"
   },
   "outputs": [],
   "source": [
    "X = adult_df.iloc[:,1:]\n",
    "y = adult_df.iloc[:,0]"
   ]
  },
  {
   "cell_type": "code",
   "execution_count": 7,
   "metadata": {
    "colab": {
     "base_uri": "https://localhost:8080/",
     "height": 522
    },
    "id": "cO8pNyfJglHJ",
    "outputId": "31f43685-4ea3-47a3-ddf8-bce0a4073cf6"
   },
   "outputs": [
    {
     "data": {
      "text/html": [
       "\n",
       "  <div id=\"df-9bf46bef-068b-4038-b115-95a2cfc47a8c\">\n",
       "    <div class=\"colab-df-container\">\n",
       "      <div>\n",
       "<style scoped>\n",
       "    .dataframe tbody tr th:only-of-type {\n",
       "        vertical-align: middle;\n",
       "    }\n",
       "\n",
       "    .dataframe tbody tr th {\n",
       "        vertical-align: top;\n",
       "    }\n",
       "\n",
       "    .dataframe thead th {\n",
       "        text-align: right;\n",
       "    }\n",
       "</style>\n",
       "<table border=\"1\" class=\"dataframe\">\n",
       "  <thead>\n",
       "    <tr style=\"text-align: right;\">\n",
       "      <th></th>\n",
       "      <th>age</th>\n",
       "      <th>education-num</th>\n",
       "      <th>capital-gain</th>\n",
       "      <th>capital-loss</th>\n",
       "      <th>hours-per-week</th>\n",
       "      <th>race_Asian-Pac-Islander</th>\n",
       "      <th>race_Black</th>\n",
       "      <th>race_Other</th>\n",
       "      <th>race_White</th>\n",
       "      <th>sex_Male</th>\n",
       "      <th>workclass_Never-worked</th>\n",
       "      <th>workclass_Private</th>\n",
       "      <th>workclass_Self</th>\n",
       "      <th>marital-status_Married</th>\n",
       "      <th>marital-status_Never-married</th>\n",
       "      <th>marital-status_Separated</th>\n",
       "      <th>marital-status_Widowed</th>\n",
       "    </tr>\n",
       "  </thead>\n",
       "  <tbody>\n",
       "    <tr>\n",
       "      <th>0</th>\n",
       "      <td>39</td>\n",
       "      <td>13</td>\n",
       "      <td>2174</td>\n",
       "      <td>0</td>\n",
       "      <td>40</td>\n",
       "      <td>0</td>\n",
       "      <td>0</td>\n",
       "      <td>0</td>\n",
       "      <td>1</td>\n",
       "      <td>1</td>\n",
       "      <td>0</td>\n",
       "      <td>0</td>\n",
       "      <td>0</td>\n",
       "      <td>0</td>\n",
       "      <td>1</td>\n",
       "      <td>0</td>\n",
       "      <td>0</td>\n",
       "    </tr>\n",
       "    <tr>\n",
       "      <th>1</th>\n",
       "      <td>30</td>\n",
       "      <td>13</td>\n",
       "      <td>0</td>\n",
       "      <td>0</td>\n",
       "      <td>40</td>\n",
       "      <td>1</td>\n",
       "      <td>0</td>\n",
       "      <td>0</td>\n",
       "      <td>0</td>\n",
       "      <td>1</td>\n",
       "      <td>0</td>\n",
       "      <td>0</td>\n",
       "      <td>0</td>\n",
       "      <td>1</td>\n",
       "      <td>0</td>\n",
       "      <td>0</td>\n",
       "      <td>0</td>\n",
       "    </tr>\n",
       "    <tr>\n",
       "      <th>2</th>\n",
       "      <td>35</td>\n",
       "      <td>5</td>\n",
       "      <td>0</td>\n",
       "      <td>0</td>\n",
       "      <td>40</td>\n",
       "      <td>0</td>\n",
       "      <td>1</td>\n",
       "      <td>0</td>\n",
       "      <td>0</td>\n",
       "      <td>1</td>\n",
       "      <td>0</td>\n",
       "      <td>0</td>\n",
       "      <td>0</td>\n",
       "      <td>1</td>\n",
       "      <td>0</td>\n",
       "      <td>0</td>\n",
       "      <td>0</td>\n",
       "    </tr>\n",
       "    <tr>\n",
       "      <th>3</th>\n",
       "      <td>56</td>\n",
       "      <td>13</td>\n",
       "      <td>0</td>\n",
       "      <td>0</td>\n",
       "      <td>40</td>\n",
       "      <td>0</td>\n",
       "      <td>0</td>\n",
       "      <td>0</td>\n",
       "      <td>1</td>\n",
       "      <td>1</td>\n",
       "      <td>0</td>\n",
       "      <td>0</td>\n",
       "      <td>0</td>\n",
       "      <td>1</td>\n",
       "      <td>0</td>\n",
       "      <td>0</td>\n",
       "      <td>0</td>\n",
       "    </tr>\n",
       "    <tr>\n",
       "      <th>4</th>\n",
       "      <td>23</td>\n",
       "      <td>12</td>\n",
       "      <td>0</td>\n",
       "      <td>0</td>\n",
       "      <td>52</td>\n",
       "      <td>0</td>\n",
       "      <td>0</td>\n",
       "      <td>0</td>\n",
       "      <td>1</td>\n",
       "      <td>1</td>\n",
       "      <td>0</td>\n",
       "      <td>0</td>\n",
       "      <td>0</td>\n",
       "      <td>0</td>\n",
       "      <td>1</td>\n",
       "      <td>0</td>\n",
       "      <td>0</td>\n",
       "    </tr>\n",
       "    <tr>\n",
       "      <th>...</th>\n",
       "      <td>...</td>\n",
       "      <td>...</td>\n",
       "      <td>...</td>\n",
       "      <td>...</td>\n",
       "      <td>...</td>\n",
       "      <td>...</td>\n",
       "      <td>...</td>\n",
       "      <td>...</td>\n",
       "      <td>...</td>\n",
       "      <td>...</td>\n",
       "      <td>...</td>\n",
       "      <td>...</td>\n",
       "      <td>...</td>\n",
       "      <td>...</td>\n",
       "      <td>...</td>\n",
       "      <td>...</td>\n",
       "      <td>...</td>\n",
       "    </tr>\n",
       "    <tr>\n",
       "      <th>23587</th>\n",
       "      <td>65</td>\n",
       "      <td>7</td>\n",
       "      <td>6418</td>\n",
       "      <td>0</td>\n",
       "      <td>35</td>\n",
       "      <td>0</td>\n",
       "      <td>0</td>\n",
       "      <td>0</td>\n",
       "      <td>1</td>\n",
       "      <td>1</td>\n",
       "      <td>0</td>\n",
       "      <td>0</td>\n",
       "      <td>1</td>\n",
       "      <td>1</td>\n",
       "      <td>0</td>\n",
       "      <td>0</td>\n",
       "      <td>0</td>\n",
       "    </tr>\n",
       "    <tr>\n",
       "      <th>23588</th>\n",
       "      <td>53</td>\n",
       "      <td>13</td>\n",
       "      <td>7688</td>\n",
       "      <td>0</td>\n",
       "      <td>20</td>\n",
       "      <td>1</td>\n",
       "      <td>0</td>\n",
       "      <td>0</td>\n",
       "      <td>0</td>\n",
       "      <td>1</td>\n",
       "      <td>0</td>\n",
       "      <td>0</td>\n",
       "      <td>1</td>\n",
       "      <td>1</td>\n",
       "      <td>0</td>\n",
       "      <td>0</td>\n",
       "      <td>0</td>\n",
       "    </tr>\n",
       "    <tr>\n",
       "      <th>23589</th>\n",
       "      <td>30</td>\n",
       "      <td>10</td>\n",
       "      <td>0</td>\n",
       "      <td>0</td>\n",
       "      <td>25</td>\n",
       "      <td>0</td>\n",
       "      <td>0</td>\n",
       "      <td>0</td>\n",
       "      <td>1</td>\n",
       "      <td>1</td>\n",
       "      <td>0</td>\n",
       "      <td>0</td>\n",
       "      <td>1</td>\n",
       "      <td>0</td>\n",
       "      <td>1</td>\n",
       "      <td>0</td>\n",
       "      <td>0</td>\n",
       "    </tr>\n",
       "    <tr>\n",
       "      <th>23590</th>\n",
       "      <td>41</td>\n",
       "      <td>9</td>\n",
       "      <td>0</td>\n",
       "      <td>0</td>\n",
       "      <td>62</td>\n",
       "      <td>0</td>\n",
       "      <td>0</td>\n",
       "      <td>0</td>\n",
       "      <td>1</td>\n",
       "      <td>1</td>\n",
       "      <td>0</td>\n",
       "      <td>0</td>\n",
       "      <td>1</td>\n",
       "      <td>1</td>\n",
       "      <td>0</td>\n",
       "      <td>0</td>\n",
       "      <td>0</td>\n",
       "    </tr>\n",
       "    <tr>\n",
       "      <th>23591</th>\n",
       "      <td>43</td>\n",
       "      <td>13</td>\n",
       "      <td>0</td>\n",
       "      <td>0</td>\n",
       "      <td>45</td>\n",
       "      <td>1</td>\n",
       "      <td>0</td>\n",
       "      <td>0</td>\n",
       "      <td>0</td>\n",
       "      <td>1</td>\n",
       "      <td>0</td>\n",
       "      <td>0</td>\n",
       "      <td>1</td>\n",
       "      <td>1</td>\n",
       "      <td>0</td>\n",
       "      <td>0</td>\n",
       "      <td>0</td>\n",
       "    </tr>\n",
       "  </tbody>\n",
       "</table>\n",
       "<p>23592 rows × 17 columns</p>\n",
       "</div>\n",
       "      <button class=\"colab-df-convert\" onclick=\"convertToInteractive('df-9bf46bef-068b-4038-b115-95a2cfc47a8c')\"\n",
       "              title=\"Convert this dataframe to an interactive table.\"\n",
       "              style=\"display:none;\">\n",
       "        \n",
       "  <svg xmlns=\"http://www.w3.org/2000/svg\" height=\"24px\"viewBox=\"0 0 24 24\"\n",
       "       width=\"24px\">\n",
       "    <path d=\"M0 0h24v24H0V0z\" fill=\"none\"/>\n",
       "    <path d=\"M18.56 5.44l.94 2.06.94-2.06 2.06-.94-2.06-.94-.94-2.06-.94 2.06-2.06.94zm-11 1L8.5 8.5l.94-2.06 2.06-.94-2.06-.94L8.5 2.5l-.94 2.06-2.06.94zm10 10l.94 2.06.94-2.06 2.06-.94-2.06-.94-.94-2.06-.94 2.06-2.06.94z\"/><path d=\"M17.41 7.96l-1.37-1.37c-.4-.4-.92-.59-1.43-.59-.52 0-1.04.2-1.43.59L10.3 9.45l-7.72 7.72c-.78.78-.78 2.05 0 2.83L4 21.41c.39.39.9.59 1.41.59.51 0 1.02-.2 1.41-.59l7.78-7.78 2.81-2.81c.8-.78.8-2.07 0-2.86zM5.41 20L4 18.59l7.72-7.72 1.47 1.35L5.41 20z\"/>\n",
       "  </svg>\n",
       "      </button>\n",
       "      \n",
       "  <style>\n",
       "    .colab-df-container {\n",
       "      display:flex;\n",
       "      flex-wrap:wrap;\n",
       "      gap: 12px;\n",
       "    }\n",
       "\n",
       "    .colab-df-convert {\n",
       "      background-color: #E8F0FE;\n",
       "      border: none;\n",
       "      border-radius: 50%;\n",
       "      cursor: pointer;\n",
       "      display: none;\n",
       "      fill: #1967D2;\n",
       "      height: 32px;\n",
       "      padding: 0 0 0 0;\n",
       "      width: 32px;\n",
       "    }\n",
       "\n",
       "    .colab-df-convert:hover {\n",
       "      background-color: #E2EBFA;\n",
       "      box-shadow: 0px 1px 2px rgba(60, 64, 67, 0.3), 0px 1px 3px 1px rgba(60, 64, 67, 0.15);\n",
       "      fill: #174EA6;\n",
       "    }\n",
       "\n",
       "    [theme=dark] .colab-df-convert {\n",
       "      background-color: #3B4455;\n",
       "      fill: #D2E3FC;\n",
       "    }\n",
       "\n",
       "    [theme=dark] .colab-df-convert:hover {\n",
       "      background-color: #434B5C;\n",
       "      box-shadow: 0px 1px 3px 1px rgba(0, 0, 0, 0.15);\n",
       "      filter: drop-shadow(0px 1px 2px rgba(0, 0, 0, 0.3));\n",
       "      fill: #FFFFFF;\n",
       "    }\n",
       "  </style>\n",
       "\n",
       "      <script>\n",
       "        const buttonEl =\n",
       "          document.querySelector('#df-9bf46bef-068b-4038-b115-95a2cfc47a8c button.colab-df-convert');\n",
       "        buttonEl.style.display =\n",
       "          google.colab.kernel.accessAllowed ? 'block' : 'none';\n",
       "\n",
       "        async function convertToInteractive(key) {\n",
       "          const element = document.querySelector('#df-9bf46bef-068b-4038-b115-95a2cfc47a8c');\n",
       "          const dataTable =\n",
       "            await google.colab.kernel.invokeFunction('convertToInteractive',\n",
       "                                                     [key], {});\n",
       "          if (!dataTable) return;\n",
       "\n",
       "          const docLinkHtml = 'Like what you see? Visit the ' +\n",
       "            '<a target=\"_blank\" href=https://colab.research.google.com/notebooks/data_table.ipynb>data table notebook</a>'\n",
       "            + ' to learn more about interactive tables.';\n",
       "          element.innerHTML = '';\n",
       "          dataTable['output_type'] = 'display_data';\n",
       "          await google.colab.output.renderOutput(dataTable, element);\n",
       "          const docLink = document.createElement('div');\n",
       "          docLink.innerHTML = docLinkHtml;\n",
       "          element.appendChild(docLink);\n",
       "        }\n",
       "      </script>\n",
       "    </div>\n",
       "  </div>\n",
       "  "
      ],
      "text/plain": [
       "       age  education-num  capital-gain  capital-loss  hours-per-week  \\\n",
       "0       39             13          2174             0              40   \n",
       "1       30             13             0             0              40   \n",
       "2       35              5             0             0              40   \n",
       "3       56             13             0             0              40   \n",
       "4       23             12             0             0              52   \n",
       "...    ...            ...           ...           ...             ...   \n",
       "23587   65              7          6418             0              35   \n",
       "23588   53             13          7688             0              20   \n",
       "23589   30             10             0             0              25   \n",
       "23590   41              9             0             0              62   \n",
       "23591   43             13             0             0              45   \n",
       "\n",
       "       race_Asian-Pac-Islander  race_Black  race_Other  race_White  sex_Male  \\\n",
       "0                            0           0           0           1         1   \n",
       "1                            1           0           0           0         1   \n",
       "2                            0           1           0           0         1   \n",
       "3                            0           0           0           1         1   \n",
       "4                            0           0           0           1         1   \n",
       "...                        ...         ...         ...         ...       ...   \n",
       "23587                        0           0           0           1         1   \n",
       "23588                        1           0           0           0         1   \n",
       "23589                        0           0           0           1         1   \n",
       "23590                        0           0           0           1         1   \n",
       "23591                        1           0           0           0         1   \n",
       "\n",
       "       workclass_Never-worked  workclass_Private  workclass_Self  \\\n",
       "0                           0                  0               0   \n",
       "1                           0                  0               0   \n",
       "2                           0                  0               0   \n",
       "3                           0                  0               0   \n",
       "4                           0                  0               0   \n",
       "...                       ...                ...             ...   \n",
       "23587                       0                  0               1   \n",
       "23588                       0                  0               1   \n",
       "23589                       0                  0               1   \n",
       "23590                       0                  0               1   \n",
       "23591                       0                  0               1   \n",
       "\n",
       "       marital-status_Married  marital-status_Never-married  \\\n",
       "0                           0                             1   \n",
       "1                           1                             0   \n",
       "2                           1                             0   \n",
       "3                           1                             0   \n",
       "4                           0                             1   \n",
       "...                       ...                           ...   \n",
       "23587                       1                             0   \n",
       "23588                       1                             0   \n",
       "23589                       0                             1   \n",
       "23590                       1                             0   \n",
       "23591                       1                             0   \n",
       "\n",
       "       marital-status_Separated  marital-status_Widowed  \n",
       "0                             0                       0  \n",
       "1                             0                       0  \n",
       "2                             0                       0  \n",
       "3                             0                       0  \n",
       "4                             0                       0  \n",
       "...                         ...                     ...  \n",
       "23587                         0                       0  \n",
       "23588                         0                       0  \n",
       "23589                         0                       0  \n",
       "23590                         0                       0  \n",
       "23591                         0                       0  \n",
       "\n",
       "[23592 rows x 17 columns]"
      ]
     },
     "execution_count": 7,
     "metadata": {},
     "output_type": "execute_result"
    }
   ],
   "source": [
    "X"
   ]
  },
  {
   "cell_type": "code",
   "execution_count": 8,
   "metadata": {
    "colab": {
     "base_uri": "https://localhost:8080/"
    },
    "id": "eUUV-Wc6grOv",
    "outputId": "a046c074-989b-4f29-d610-a2bd9db00135"
   },
   "outputs": [
    {
     "data": {
      "text/plain": [
       "0        <=50K.\n",
       "1         >50K.\n",
       "2        <=50K.\n",
       "3         >50K.\n",
       "4        <=50K.\n",
       "          ...  \n",
       "23587     >50K.\n",
       "23588     >50K.\n",
       "23589    <=50K.\n",
       "23590    <=50K.\n",
       "23591    <=50K.\n",
       "Name: income, Length: 23592, dtype: object"
      ]
     },
     "execution_count": 8,
     "metadata": {},
     "output_type": "execute_result"
    }
   ],
   "source": [
    "y"
   ]
  },
  {
   "cell_type": "markdown",
   "metadata": {
    "id": "cilX2V0x0J56"
   },
   "source": [
    "<h3> Checking Correlation among variables </h3>"
   ]
  },
  {
   "cell_type": "code",
   "execution_count": 15,
   "metadata": {
    "colab": {
     "base_uri": "https://localhost:8080/",
     "height": 596
    },
    "id": "-vs8_xo-0GMi",
    "outputId": "01ba5d2f-875e-4e60-f314-624130a6ef71"
   },
   "outputs": [
    {
     "data": {
      "image/png": "[encoded data removed]",
      "text/plain": [
       "<Figure size 720x720 with 2 Axes>"
      ]
     },
     "metadata": {
      "needs_background": "light"
     },
     "output_type": "display_data"
    }
   ],
   "source": [
    "import seaborn as sns\n",
    "import matplotlib.pyplot as plt\n",
    "corrmat = adult_df1.corr()\n",
    "top_corr_features = corrmat.index\n",
    "plt.figure(figsize=(10,10))\n",
    "#plot heat map\n",
    "g=sns.heatmap(adult_df1[top_corr_features].corr(),annot=True,cmap=\"RdYlGn\")"
   ]
  },
  {
   "cell_type": "markdown",
   "metadata": {
    "id": "hfZWbfwdhPs0"
   },
   "source": [
    "<h3> Splitting the data into training and test set</h3>"
   ]
  },
  {
   "cell_type": "code",
   "execution_count": null,
   "metadata": {
    "id": "32XnujDNIrV-"
   },
   "outputs": [],
   "source": [
    "X_train,X_test,y_train,y_test = train_test_split(X,y,test_size=0.33,random_state=5)"
   ]
  },
  {
   "cell_type": "markdown",
   "metadata": {
    "id": "3UKSfWh4hXOX"
   },
   "source": [
    "<h3>AdaBoostClassifier with RandomForestClassifier as default model </h3>"
   ]
  },
  {
   "cell_type": "code",
   "execution_count": null,
   "metadata": {
    "id": "5g6-s1vxItC1"
   },
   "outputs": [],
   "source": [
    "clf = AdaBoostClassifier(random_state=5,base_estimator=RandomForestClassifier(random_state=5),n_estimators=100,learning_rate=0.01)"
   ]
  },
  {
   "cell_type": "code",
   "execution_count": null,
   "metadata": {
    "id": "CjcSTVxGIxax"
   },
   "outputs": [],
   "source": [
    "model = clf.fit(X_train,y_train)"
   ]
  },
  {
   "cell_type": "code",
   "execution_count": null,
   "metadata": {
    "id": "Ejyo14vzJoux"
   },
   "outputs": [],
   "source": [
    "y_test_pred = model.predict(X_test)       "
   ]
  },
  {
   "cell_type": "code",
   "execution_count": null,
   "metadata": {
    "id": "Fj1yM_llJ3R_"
   },
   "outputs": [],
   "source": [
    "accuracy = accuracy_score(y_test, y_test_pred)    \n",
    "precision = precision_score(y_test,y_test_pred,pos_label='>50K.')\n",
    "recall = recall_score(y_test,y_test_pred,pos_label='>50K.')\n",
    "f1 = f1_score(y_test,y_test_pred,pos_label='>50K.')"
   ]
  },
  {
   "cell_type": "code",
   "execution_count": null,
   "metadata": {
    "colab": {
     "base_uri": "https://localhost:8080/"
    },
    "id": "_H9S6gI4J5fn",
    "outputId": "9426d145-94d5-4fc0-ed35-6c5fe75ff730"
   },
   "outputs": [
    {
     "name": "stdout",
     "output_type": "stream",
     "text": [
      "0.840226046750578\n"
     ]
    }
   ],
   "source": [
    "print(accuracy)"
   ]
  },
  {
   "cell_type": "markdown",
   "metadata": {
    "id": "LfDBhPRzhkoF"
   },
   "source": [
    "<h3>Tuning the n_estimators and learning_rate hyperparameters for Adaboost with Logistic Regression as the base model </h3>"
   ]
  },
  {
   "cell_type": "code",
   "execution_count": null,
   "metadata": {
    "colab": {
     "base_uri": "https://localhost:8080/"
    },
    "id": "D4oFLPoyR_Ar",
    "outputId": "74e6cc7a-764f-4e0d-f6c3-0f0e781db761"
   },
   "outputs": [
    {
     "name": "stdout",
     "output_type": "stream",
     "text": [
      "n_estimator \t\t learning_rate \t\t accuracy\t\t precision\t\t recall\t\t f1_score\n",
      "50\t\t\t 0.01\t\t\t 0.806\t\t\t 0.755\t\t\t 0.327\t\t 0.456\n",
      "50\t\t\t 0.05\t\t\t 0.812\t\t\t 0.78\t\t\t 0.343\t\t 0.477\n",
      "50\t\t\t 0.1\t\t\t 0.817\t\t\t 0.778\t\t\t 0.371\t\t 0.502\n",
      "50\t\t\t 0.25\t\t\t 0.831\t\t\t 0.77\t\t\t 0.458\t\t 0.574\n",
      "50\t\t\t 0.5\t\t\t 0.831\t\t\t 0.745\t\t\t 0.494\t\t 0.594\n",
      "100\t\t\t 0.01\t\t\t 0.808\t\t\t 0.762\t\t\t 0.337\t\t 0.468\n",
      "100\t\t\t 0.05\t\t\t 0.818\t\t\t 0.779\t\t\t 0.376\t\t 0.507\n",
      "100\t\t\t 0.1\t\t\t 0.828\t\t\t 0.776\t\t\t 0.437\t\t 0.559\n",
      "100\t\t\t 0.25\t\t\t 0.832\t\t\t 0.744\t\t\t 0.499\t\t 0.597\n",
      "100\t\t\t 0.5\t\t\t 0.836\t\t\t 0.743\t\t\t 0.524\t\t 0.615\n",
      "150\t\t\t 0.01\t\t\t 0.808\t\t\t 0.764\t\t\t 0.334\t\t 0.465\n",
      "150\t\t\t 0.05\t\t\t 0.823\t\t\t 0.78\t\t\t 0.406\t\t 0.534\n",
      "150\t\t\t 0.1\t\t\t 0.832\t\t\t 0.763\t\t\t 0.472\t\t 0.583\n",
      "150\t\t\t 0.25\t\t\t 0.835\t\t\t 0.743\t\t\t 0.52\t\t 0.612\n",
      "150\t\t\t 0.5\t\t\t 0.835\t\t\t 0.738\t\t\t 0.527\t\t 0.615\n",
      "200\t\t\t 0.01\t\t\t 0.811\t\t\t 0.776\t\t\t 0.342\t\t 0.475\n",
      "200\t\t\t 0.05\t\t\t 0.828\t\t\t 0.779\t\t\t 0.435\t\t 0.558\n",
      "200\t\t\t 0.1\t\t\t 0.831\t\t\t 0.749\t\t\t 0.487\t\t 0.59\n",
      "200\t\t\t 0.25\t\t\t 0.835\t\t\t 0.74\t\t\t 0.524\t\t 0.613\n",
      "200\t\t\t 0.5\t\t\t 0.836\t\t\t 0.738\t\t\t 0.529\t\t 0.616\n"
     ]
    }
   ],
   "source": [
    "print(\"n_estimator \\t\\t learning_rate \\t\\t accuracy\\t\\t precision\\t\\t recall\\t\\t f1_score\")\n",
    "lr_final=[]\n",
    "for n_estimators in [50,100,150,200]:\n",
    "  lr=[]\n",
    "  for learning_rate in [0.01,0.05,0.1,0.25,0.5]:\n",
    "    clf2 = AdaBoostClassifier(random_state=5,base_estimator=LogisticRegression(random_state=5,max_iter=500),n_estimators=n_estimators,learning_rate=learning_rate)\n",
    "    model_2 = clf2.fit(X_train,y_train)\n",
    "    y_test_pred = model_2.predict(X_test)   \n",
    "    accuracy = accuracy_score(y_test, y_test_pred)    \n",
    "    lr.append(accuracy)\n",
    "    precision = precision_score(y_test,y_test_pred,pos_label='>50K.')\n",
    "    recall = recall_score(y_test,y_test_pred,pos_label='>50K.')\n",
    "    f1 = f1_score(y_test,y_test_pred,pos_label='>50K.')\n",
    "    print(str(n_estimators)+\"\\t\\t\\t \"+str(round(learning_rate,3))+\"\\t\\t\\t \"+str(round(accuracy,3))+\"\\t\\t\\t \"+str(round(precision,3))+\"\\t\\t\\t \"+str(round(recall,3))+\"\\t\\t \"+str(round(f1,3)))\n",
    "  lr_final.append(lr)"
   ]
  },
  {
   "cell_type": "code",
   "execution_count": null,
   "metadata": {
    "colab": {
     "base_uri": "https://localhost:8080/",
     "height": 592
    },
    "id": "TZa5pJuZq5sl",
    "outputId": "af7da63e-a055-4c5a-9e41-d414ba2cd317"
   },
   "outputs": [
    {
     "data": {
      "image/png": "[encoded data removed]",
      "text/plain": [
       "<Figure size 720x720 with 1 Axes>"
      ]
     },
     "metadata": {
      "needs_background": "light"
     },
     "output_type": "display_data"
    }
   ],
   "source": [
    "import matplotlib.pyplot as plt\n",
    "plt.figure(figsize=(10,10))\n",
    "plt.plot([0.01,0.05,0.1,0.25,0.5],lr_final[0],color='green', label=\"n_estimators=50\")\n",
    "plt.plot([0.01,0.05,0.1,0.25,0.5],lr_final[1],color='yellow', label=\"n_estimators=100\")\n",
    "plt.plot([0.01,0.05,0.1,0.25,0.5],lr_final[2],color='red', label=\"n_estimators=150\")\n",
    "plt.plot([0.01,0.05,0.1,0.25,0.5],lr_final[3],color='blue', label=\"n_estimators=200\")\n",
    "plt.legend()\n",
    "plt.show()"
   ]
  },
  {
   "cell_type": "markdown",
   "metadata": {
    "id": "jYci-jJqtcPk"
   },
   "source": [
    "<h3> Find the optimal max depth for DecisionTreeClassifier using 5-fold cross-validation</h3>"
   ]
  },
  {
   "cell_type": "code",
   "execution_count": null,
   "metadata": {
    "colab": {
     "base_uri": "https://localhost:8080/"
    },
    "id": "KqKqPQpK12lv",
    "outputId": "bfe9bc42-59c8-4b39-9e19-b03dda00ef37"
   },
   "outputs": [
    {
     "name": "stdout",
     "output_type": "stream",
     "text": [
      "2 : 0.823202802053625\n",
      "3 : 0.8387590828378528\n",
      "4 : 0.8424468167386971\n",
      "5 : 0.8431673083682796\n",
      "6 : 0.846685523809883\n",
      "7 : 0.8472789956199721\n",
      "8 : 0.8490169573255628\n",
      "9 : 0.8459225604895957\n",
      "10 : 0.8443966338490212\n",
      "11 : 0.8425315894428383\n",
      "12 : 0.8405394533530492\n",
      "13 : 0.8379538993512557\n",
      "14 : 0.8363856986462868\n",
      "15 : 0.8326134255996678\n",
      "16 : 0.828925646783753\n",
      "17 : 0.8253226945700645\n",
      "18 : 0.8262124621175067\n",
      "19 : 0.8218468520060103\n",
      "20 : 0.8208294537941153\n"
     ]
    }
   ],
   "source": [
    "lr=[]\n",
    "for i in range (2,21):                                                 \n",
    "    model_2 = DecisionTreeClassifier(max_depth=i)\n",
    "    scores = cross_val_score(estimator=model_2, X=X, y=y, cv=5)\n",
    "    print(i,':',np.average(scores))\n",
    "    depth= i\n",
    "    lr.append(np.average(scores))"
   ]
  },
  {
   "cell_type": "code",
   "execution_count": null,
   "metadata": {
    "colab": {
     "base_uri": "https://localhost:8080/",
     "height": 592
    },
    "id": "hztw-klEwtYg",
    "outputId": "9ac82f7b-2f16-4c9c-d059-55a45c02ae98"
   },
   "outputs": [
    {
     "data": {
      "image/png": "[encoded data removed]",
      "text/plain": [
       "<Figure size 720x720 with 1 Axes>"
      ]
     },
     "metadata": {
      "needs_background": "light"
     },
     "output_type": "display_data"
    }
   ],
   "source": [
    "import matplotlib.pyplot as plt\n",
    "plt.figure(figsize=(10,10))\n",
    "plt.plot(lr, 'g--', label=\"n_estimators=50\")\n",
    "plt.legend()\n",
    "plt.show()"
   ]
  },
  {
   "cell_type": "markdown",
   "metadata": {
    "id": "AE4cAkdhtg-f"
   },
   "source": [
    "<h3> Tune n_estimators and learning_rate hyperparameters for Adaboost with Decision Tree as the base model</h3>"
   ]
  },
  {
   "cell_type": "code",
   "execution_count": null,
   "metadata": {
    "colab": {
     "base_uri": "https://localhost:8080/"
    },
    "id": "pqk6f5NQ1gcx",
    "outputId": "18555d9b-d061-48f3-9def-fe2d6925ea38"
   },
   "outputs": [
    {
     "name": "stdout",
     "output_type": "stream",
     "text": [
      "n_estimator \t\t learning_rate \t\t accuracy \t\t precision \t\t recall \t\t f1_score\n",
      "50\t\t\t 0.01\t\t\t 0.847\t\t\t 0.773\t\t\t 0.549\t\t\t 0.642\n",
      "50\t\t\t 0.05\t\t\t 0.848\t\t\t 0.749\t\t\t 0.59\t\t\t 0.66\n",
      "50\t\t\t 0.1\t\t\t 0.845\t\t\t 0.741\t\t\t 0.585\t\t\t 0.654\n",
      "50\t\t\t 0.25\t\t\t 0.84\t\t\t 0.72\t\t\t 0.586\t\t\t 0.646\n",
      "50\t\t\t 0.5\t\t\t 0.827\t\t\t 0.684\t\t\t 0.571\t\t\t 0.623\n",
      "100\t\t\t 0.01\t\t\t 0.846\t\t\t 0.76\t\t\t 0.561\t\t\t 0.646\n",
      "100\t\t\t 0.05\t\t\t 0.847\t\t\t 0.739\t\t\t 0.597\t\t\t 0.661\n",
      "100\t\t\t 0.1\t\t\t 0.84\t\t\t 0.721\t\t\t 0.582\t\t\t 0.644\n",
      "100\t\t\t 0.25\t\t\t 0.833\t\t\t 0.694\t\t\t 0.59\t\t\t 0.637\n",
      "100\t\t\t 0.5\t\t\t 0.83\t\t\t 0.682\t\t\t 0.595\t\t\t 0.635\n",
      "150\t\t\t 0.01\t\t\t 0.849\t\t\t 0.765\t\t\t 0.571\t\t\t 0.654\n",
      "150\t\t\t 0.05\t\t\t 0.842\t\t\t 0.724\t\t\t 0.595\t\t\t 0.653\n",
      "150\t\t\t 0.1\t\t\t 0.834\t\t\t 0.703\t\t\t 0.582\t\t\t 0.637\n",
      "150\t\t\t 0.25\t\t\t 0.83\t\t\t 0.686\t\t\t 0.587\t\t\t 0.633\n",
      "150\t\t\t 0.5\t\t\t 0.826\t\t\t 0.671\t\t\t 0.594\t\t\t 0.63\n",
      "200\t\t\t 0.01\t\t\t 0.851\t\t\t 0.762\t\t\t 0.584\t\t\t 0.661\n",
      "200\t\t\t 0.05\t\t\t 0.84\t\t\t 0.713\t\t\t 0.601\t\t\t 0.652\n",
      "200\t\t\t 0.1\t\t\t 0.831\t\t\t 0.696\t\t\t 0.576\t\t\t 0.63\n",
      "200\t\t\t 0.25\t\t\t 0.831\t\t\t 0.687\t\t\t 0.59\t\t\t 0.635\n",
      "200\t\t\t 0.5\t\t\t 0.824\t\t\t 0.669\t\t\t 0.579\t\t\t 0.621\n"
     ]
    }
   ],
   "source": [
    "print(\"n_estimator \\t\\t learning_rate \\t\\t accuracy \\t\\t precision \\t\\t recall \\t\\t f1_score\")\n",
    "lr_final=[]\n",
    "for n_estimators in [50,100,150,200]:\n",
    "  lr=[]\n",
    "  for learning_rate in [0.01,0.05,0.1,0.25,0.5]:\n",
    "    clf2 = AdaBoostClassifier(random_state=5,base_estimator=DecisionTreeClassifier(random_state=5,max_depth=8),n_estimators=n_estimators,learning_rate=learning_rate)\n",
    "    model_2 = clf2.fit(X_train,y_train)\n",
    "    y_test_pred = model_2.predict(X_test)   \n",
    "    accuracy = accuracy_score(y_test, y_test_pred) \n",
    "    lr.append(accuracy) \n",
    "    precision = precision_score(y_test,y_test_pred,pos_label='>50K.')\n",
    "    recall = recall_score(y_test,y_test_pred,pos_label='>50K.')\n",
    "    f1 = f1_score(y_test,y_test_pred,pos_label='>50K.')\n",
    "    print(str(n_estimators)+\"\\t\\t\\t \"+str(round(learning_rate,3))+\"\\t\\t\\t \"+str(round(accuracy,3))+\"\\t\\t\\t \"+str(round(precision,3))+\"\\t\\t\\t \"+str(round(recall,3))+\"\\t\\t\\t \"+str(round(f1,3)))\n",
    "  lr_final.append(lr)"
   ]
  },
  {
   "cell_type": "markdown",
   "metadata": {
    "id": "Kz71iGfdjYYT"
   },
   "source": [
    "We want a balanced precision and recall  along with accuravy. Hence, we choose n_estimators as 150 and learning rate as 0.01"
   ]
  },
  {
   "cell_type": "code",
   "execution_count": null,
   "metadata": {
    "colab": {
     "base_uri": "https://localhost:8080/",
     "height": 592
    },
    "id": "2RiFUmYOyCHm",
    "outputId": "9ef79834-89f9-4b06-92c9-01305b4a1346"
   },
   "outputs": [
    {
     "data": {
      "image/png": "[encoded data removed]",
      "text/plain": [
       "<Figure size 720x720 with 1 Axes>"
      ]
     },
     "metadata": {
      "needs_background": "light"
     },
     "output_type": "display_data"
    }
   ],
   "source": [
    "import matplotlib.pyplot as plt\n",
    "plt.figure(figsize=(10,10))\n",
    "plt.plot([0.01,0.05,0.1,0.25,0.5],lr_final[0],color='green', label=\"n_estimators=50\")\n",
    "plt.plot([0.01,0.05,0.1,0.25,0.5],lr_final[1],color='yellow', label=\"n_estimators=100\")\n",
    "plt.plot([0.01,0.05,0.1,0.25,0.5],lr_final[2],color='red', label=\"n_estimators=150\")\n",
    "plt.plot([0.01,0.05,0.1,0.25,0.5],lr_final[3],color='blue', label=\"n_estimators=200\")\n",
    "plt.legend()\n",
    "plt.show()"
   ]
  },
  {
   "cell_type": "code",
   "execution_count": null,
   "metadata": {
    "id": "Xj4Ld0fYi4oi"
   },
   "outputs": [],
   "source": [
    "clf2 = AdaBoostClassifier(random_state=5,base_estimator=DecisionTreeClassifier(random_state=5,max_depth=8),n_estimators=200,learning_rate=0.01)"
   ]
  },
  {
   "cell_type": "code",
   "execution_count": null,
   "metadata": {
    "colab": {
     "base_uri": "https://localhost:8080/"
    },
    "id": "igWBgCucSij9",
    "outputId": "9698af69-44cd-4fbc-d0b7-074793b6747f"
   },
   "outputs": [
    {
     "name": "stdout",
     "output_type": "stream",
     "text": [
      "0.8507577703570511\n"
     ]
    }
   ],
   "source": [
    "model_2 = clf2.fit(X_train,y_train)\n",
    "y_test_pred = model_2.predict(X_test)     \n",
    "accuracy_cart = accuracy_score(y_test, y_test_pred) \n",
    "print(accuracy_cart)"
   ]
  },
  {
   "cell_type": "markdown",
   "metadata": {
    "id": "7_Z48ieImgRF"
   },
   "source": [
    "<h3>Comparison - Adaboost vs Gradient Boosting </h3>"
   ]
  },
  {
   "cell_type": "code",
   "execution_count": null,
   "metadata": {
    "colab": {
     "base_uri": "https://localhost:8080/"
    },
    "id": "kW6_p1giYgSq",
    "outputId": "672051a6-9409-46f6-d1bf-19b16323a714"
   },
   "outputs": [
    {
     "data": {
      "text/plain": [
       "0.8596198304649371"
      ]
     },
     "execution_count": 37,
     "metadata": {},
     "output_type": "execute_result"
    }
   ],
   "source": [
    "clf_gradient_boosting = GradientBoostingClassifier(n_estimators=100)\n",
    "clf_gradient_boosting.fit(X_train, y_train)\n",
    "y_pred_gradient_boosting = clf_gradient_boosting.predict(X_test)\n",
    "accuracy_score(y_test, y_pred_gradient_boosting)"
   ]
  },
  {
   "cell_type": "code",
   "execution_count": null,
   "metadata": {
    "colab": {
     "base_uri": "https://localhost:8080/"
    },
    "id": "FwtEuz_sYgV6",
    "outputId": "a03509aa-c8c6-4ca8-cf6d-928c959001d1"
   },
   "outputs": [
    {
     "name": "stdout",
     "output_type": "stream",
     "text": [
      "n_estimator \t\t learning_rate \t\t accuracy \t\t precision \t\t recall \t\t f1_score\n",
      "50\t\t\t 0.01\t\t\t 0.796\t\t\t 0.984\t\t\t 0.185\t\t\t 0.312\n",
      "50\t\t\t 0.05\t\t\t 0.846\t\t\t 0.803\t\t\t 0.505\t\t\t 0.62\n",
      "50\t\t\t 0.1\t\t\t 0.851\t\t\t 0.808\t\t\t 0.529\t\t\t 0.639\n",
      "50\t\t\t 0.25\t\t\t 0.86\t\t\t 0.8\t\t\t 0.586\t\t\t 0.677\n",
      "50\t\t\t 0.5\t\t\t 0.863\t\t\t 0.798\t\t\t 0.602\t\t\t 0.687\n",
      "100\t\t\t 0.01\t\t\t 0.81\t\t\t 0.977\t\t\t 0.242\t\t\t 0.388\n",
      "100\t\t\t 0.05\t\t\t 0.852\t\t\t 0.812\t\t\t 0.528\t\t\t 0.64\n",
      "100\t\t\t 0.1\t\t\t 0.86\t\t\t 0.805\t\t\t 0.577\t\t\t 0.672\n",
      "100\t\t\t 0.25\t\t\t 0.862\t\t\t 0.802\t\t\t 0.595\t\t\t 0.683\n",
      "100\t\t\t 0.5\t\t\t 0.863\t\t\t 0.795\t\t\t 0.61\t\t\t 0.69\n",
      "150\t\t\t 0.01\t\t\t 0.843\t\t\t 0.807\t\t\t 0.486\t\t\t 0.607\n",
      "150\t\t\t 0.05\t\t\t 0.856\t\t\t 0.805\t\t\t 0.559\t\t\t 0.66\n",
      "150\t\t\t 0.1\t\t\t 0.861\t\t\t 0.807\t\t\t 0.582\t\t\t 0.676\n",
      "150\t\t\t 0.25\t\t\t 0.864\t\t\t 0.8\t\t\t 0.606\t\t\t 0.69\n",
      "150\t\t\t 0.5\t\t\t 0.864\t\t\t 0.793\t\t\t 0.615\t\t\t 0.693\n",
      "200\t\t\t 0.01\t\t\t 0.846\t\t\t 0.807\t\t\t 0.503\t\t\t 0.62\n",
      "200\t\t\t 0.05\t\t\t 0.858\t\t\t 0.805\t\t\t 0.568\t\t\t 0.666\n",
      "200\t\t\t 0.1\t\t\t 0.863\t\t\t 0.802\t\t\t 0.596\t\t\t 0.684\n",
      "200\t\t\t 0.25\t\t\t 0.865\t\t\t 0.801\t\t\t 0.612\t\t\t 0.694\n",
      "200\t\t\t 0.5\t\t\t 0.863\t\t\t 0.789\t\t\t 0.616\t\t\t 0.692\n"
     ]
    }
   ],
   "source": [
    "print(\"n_estimator \\t\\t learning_rate \\t\\t accuracy \\t\\t precision \\t\\t recall \\t\\t f1_score\")\n",
    "lr_final=[]\n",
    "for n_estimators in [50,100,150,200]:\n",
    "  lr=[]\n",
    "  for learning_rate in [0.01,0.05,0.1,0.25,0.5]:\n",
    "    clf_gradient_boosting = GradientBoostingClassifier(random_state=5,n_estimators=n_estimators,learning_rate=learning_rate)\n",
    "    model_gradient_boosting = clf_gradient_boosting.fit(X_train,y_train)\n",
    "    y_test_pred_boosting = model_gradient_boosting.predict(X_test)   \n",
    "    accuracy = accuracy_score(y_test, y_test_pred_boosting)    \n",
    "    lr.append(accuracy) \n",
    "    precision = precision_score(y_test,y_test_pred_boosting,pos_label='>50K.')\n",
    "    recall = recall_score(y_test,y_test_pred_boosting,pos_label='>50K.')\n",
    "    f1 = f1_score(y_test,y_test_pred_boosting,pos_label='>50K.')\n",
    "    print(str(n_estimators)+\"\\t\\t\\t \"+str(round(learning_rate,3))+\"\\t\\t\\t \"+str(round(accuracy,3))+\"\\t\\t\\t \"+str(round(precision,3))+\"\\t\\t\\t \"+str(round(recall,3))+\"\\t\\t\\t \"+str(round(f1,3)))\n",
    "  lr_final.append(lr)"
   ]
  },
  {
   "cell_type": "code",
   "execution_count": null,
   "metadata": {
    "colab": {
     "base_uri": "https://localhost:8080/",
     "height": 592
    },
    "id": "iEjJcUB32aW7",
    "outputId": "71fba944-11fb-4e27-d04b-e254cc7ce4e8"
   },
   "outputs": [
    {
     "data": {
      "image/png": "[encoded data removed]",
      "text/plain": [
       "<Figure size 720x720 with 1 Axes>"
      ]
     },
     "metadata": {
      "needs_background": "light"
     },
     "output_type": "display_data"
    }
   ],
   "source": [
    "import matplotlib.pyplot as plt\n",
    "plt.figure(figsize=(10,10))\n",
    "plt.plot([0.01,0.05,0.1,0.25,0.5],lr_final[0],color='green', label=\"n_estimators=50\")\n",
    "plt.plot([0.01,0.05,0.1,0.25,0.5],lr_final[1],color='yellow', label=\"n_estimators=100\")\n",
    "plt.plot([0.01,0.05,0.1,0.25,0.5],lr_final[2],color='red', label=\"n_estimators=150\")\n",
    "plt.plot([0.01,0.05,0.1,0.25,0.5],lr_final[3],color='blue', label=\"n_estimators=200\")\n",
    "plt.legend()\n",
    "plt.show()"
   ]
  }
 ],
 "metadata": {
  "colab": {
   "provenance": []
  },
  "kernelspec": {
   "display_name": "Python 3 (ipykernel)",
   "language": "python",
   "name": "python3"
  },
  "language_info": {
   "codemirror_mode": {
    "name": "ipython",
    "version": 3
   },
   "file_extension": ".py",
   "mimetype": "text/x-python",
   "name": "python",
   "nbconvert_exporter": "python",
   "pygments_lexer": "ipython3",
   "version": "3.9.12"
  }
 },
 "nbformat": 4,
 "nbformat_minor": 1
}
